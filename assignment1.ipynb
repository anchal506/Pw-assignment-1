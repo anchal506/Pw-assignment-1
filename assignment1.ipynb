{
 "cells": [
  {
   "cell_type": "markdown",
   "id": "d634da27-480d-4039-bb24-4332ccd822a5",
   "metadata": {},
   "source": [
    "#Q1. Create one variable containing following type of data:\n",
    "\n",
    "#(i) string\n",
    "\n",
    "  string = \"Hello World!\"\n",
    "\n",
    "#(ii) list\n",
    "    list = [2,5,66,'anchal',43,65]\n",
    "#(iii) float\n",
    "     float = 3.14\n",
    "\n",
    "#(iv) tuple\n",
    "    tuple = (2,33,44,'anchal',22)"
   ]
  },
  {
   "cell_type": "markdown",
   "id": "1a0ad2b0-66b0-4555-ae0a-db0672945ede",
   "metadata": {},
   "source": [
    "#Q2. Given are some following variables containing data:\n",
    "#(i) var1 = ‘ ‘\n",
    "   (i) var1: String\n",
    "    The data type of var1 is string.\n",
    "    \n",
    "#(ii) var2 = ‘[ DS , ML , Python]’\n",
    "    (ii) var2: String\n",
    "    The data type of var2 is also string\n",
    " \n",
    " #(iii) var3 = [ ‘DS’ , ’ML’ , ‘Python’ ]\n",
    "    (iii) var3: List\n",
    "   The data type of var3 is list\n",
    "    (iv) var4 = 1.\n",
    "   var4: Float\n",
    "The data type of var4 is float\n",
    "\n"
   ]
  },
  {
   "cell_type": "markdown",
   "id": "5d6217f6-cd22-41ce-abba-a6a6ad303d10",
   "metadata": {},
   "source": [
    "Q3. Explain the use of the following operators using an example:\n",
    "(i) /\n",
    "Ans- operator \"/\" is the division operator. It is used to divide one number by another and obtain the quotient as the result. For example:\n",
    "    a = 10\n",
    "    b = 3\n",
    "result = a / b\n",
    "print(result)\n",
    "\n",
    "output-3.3333333333333335\n",
    "\n",
    "\n",
    "(ii) %\n",
    "\n",
    "Ans- The operator \"%\" is the modulo operator or the remainder operator. It returns the remainder when one number is divided by another. For example:\n",
    "    \n",
    "a = 10\n",
    "b = 3\n",
    "result = a % b\n",
    "print(result)\n",
    " \n",
    "output- 1\n",
    "(iii) //\n",
    "\n",
    "Ans- The operator \"//\" is the floor division operator. It performs integer division and returns the floor value of the quotient. The floor value is the largest integer that is less than or equal to the quotient. For example:\n",
    "    a = 10\n",
    "    b = 3\n",
    "result = a // b\n",
    "print(result)\n",
    "\n",
    "output-3\n",
    "\n",
    "(iv) **\n",
    "\n",
    "Ans- The operator \"**\" is the exponentiation operator. It raises a number to the power of another number. For example\n",
    "a = 2\n",
    "b = 3\n",
    "result = a ** b\n",
    "print(result)\n",
    "output-8\n"
   ]
  },
  {
   "cell_type": "markdown",
   "id": "839ed665-6692-45d6-b0f9-2c08b630cf2d",
   "metadata": {},
   "source": [
    "Q4. Create a list of length 10 of your choice containing multiple types of data. Using for loop print the\n",
    "element and its data type."
   ]
  },
  {
   "cell_type": "code",
   "execution_count": 2,
   "id": "37ca0260-e232-4ca9-ac8e-8d4864e476fd",
   "metadata": {},
   "outputs": [
    {
     "name": "stdout",
     "output_type": "stream",
     "text": [
      "Element: 42, Data Type: <class 'int'>\n",
      "Element: Hello, Data Type: <class 'str'>\n",
      "Element: 3.14, Data Type: <class 'float'>\n",
      "Element: True, Data Type: <class 'bool'>\n",
      "Element: [1, 2, 3], Data Type: <class 'list'>\n",
      "Element: {'name': 'John', 'age': 30}, Data Type: <class 'dict'>\n",
      "Element: None, Data Type: <class 'NoneType'>\n",
      "Element: (1, 2), Data Type: <class 'tuple'>\n",
      "Element: True, Data Type: <class 'bool'>\n",
      "Element: World, Data Type: <class 'str'>\n"
     ]
    }
   ],
   "source": [
    "# Ans 4 -\n",
    "\n",
    "my_list = [42, 'Hello', 3.14, True, [1, 2, 3], {'name': 'John', 'age': 30}, None, (1, 2), 5 > 2, 'World']\n",
    "\n",
    "for element in my_list:\n",
    "    print(f\"Element: {element}, Data Type: {type(element)}\")\n"
   ]
  },
  {
   "cell_type": "markdown",
   "id": "797be7b0-ec3e-4239-afa8-67e16a765645",
   "metadata": {},
   "source": [
    "Q5. Using a while loop, verify if the number A is purely divisible by number B and if so then how many\n",
    "times it can be divisible."
   ]
  },
  {
   "cell_type": "code",
   "execution_count": 3,
   "id": "ba9767df-e096-4956-aed8-b10b833a0301",
   "metadata": {},
   "outputs": [
    {
     "name": "stdout",
     "output_type": "stream",
     "text": [
      "A is divisible by B, and it can be divided 1 times.\n"
     ]
    }
   ],
   "source": [
    "#Ans-5\n",
    "A = 42  # Dividend\n",
    "B = 7   # Divisor\n",
    "\n",
    "count = 0  # Counter to keep track of the number of divisions\n",
    "\n",
    "while A % B == 0:\n",
    "    A = A / B\n",
    "    count += 1\n",
    "\n",
    "if count > 0:\n",
    "    print(f\"A is divisible by B, and it can be divided {count} times.\")\n",
    "else:\n",
    "    print(\"A is not divisible by B.\")\n",
    "\n"
   ]
  },
  {
   "cell_type": "markdown",
   "id": "33da07ef-bf30-4054-a6b5-7d1d5b7dbcf0",
   "metadata": {},
   "source": [
    "Q6. Create a list containing 25 int type data. Using for loop and if-else condition print if the element is\n",
    "divisible by 3 or not."
   ]
  },
  {
   "cell_type": "code",
   "execution_count": 6,
   "id": "206f11bb-92ff-4ffc-b0ea-0abe419b1f52",
   "metadata": {},
   "outputs": [
    {
     "name": "stdout",
     "output_type": "stream",
     "text": [
      "12 is divisible by 3\n",
      "5 is not divisible by 3\n",
      "9 is divisible by 3\n",
      "27 is divisible by 3\n",
      "16 is not divisible by 3\n",
      "30 is divisible by 3\n",
      "8 is not divisible by 3\n",
      "21 is divisible by 3\n",
      "10 is not divisible by 3\n",
      "33 is divisible by 3\n",
      "6 is divisible by 3\n",
      "14 is not divisible by 3\n",
      "18 is divisible by 3\n",
      "25 is not divisible by 3\n",
      "7 is not divisible by 3\n",
      "36 is divisible by 3\n",
      "22 is not divisible by 3\n",
      "11 is not divisible by 3\n",
      "3 is divisible by 3\n",
      "20 is not divisible by 3\n",
      "17 is not divisible by 3\n",
      "28 is not divisible by 3\n",
      "15 is divisible by 3\n",
      "24 is divisible by 3\n",
      "31 is not divisible by 3\n"
     ]
    }
   ],
   "source": [
    "#Ans6-\n",
    "my_list = [12, 5, 9, 27, 16, 30, 8, 21, 10, 33, 6, 14, 18, 25, 7, 36, 22, 11, 3, 20, 17, 28, 15, 24, 31]\n",
    "\n",
    "for element in my_list:\n",
    "    if element % 3 == 0:\n",
    "        print(f\"{element} is divisible by 3\")\n",
    "    else:\n",
    "        print(f\"{element} is not divisible by 3\")\n"
   ]
  },
  {
   "cell_type": "markdown",
   "id": "bf14370f-830e-49aa-8f9d-3daa3cb7fa67",
   "metadata": {},
   "source": [
    "Q7. What do you understand about mutable and immutable data types? Give examples for both showing\n",
    "this property.\n",
    "\n",
    "Ans-Immutable data types are those whose state or value cannot be changed after they are created. Examples of immutable data types include integers, floats, booleans, strings, and tuples. Once an immutable object is created, any operation that appears to modify the object actually creates a new object with the modified value. This property ensures that the original object remains unchanged.\n",
    "\n",
    "On the other hand, mutable data types are those that can be modified after they are created. Examples of mutable data types include lists, dictionaries, and sets. Mutable objects can have their internal state modified, such as adding or removing elements, without creating a new object.\n",
    "\n"
   ]
  },
  {
   "cell_type": "code",
   "execution_count": null,
   "id": "2fd97f7a-33bc-4da5-bd22-a8211a849fe9",
   "metadata": {},
   "outputs": [],
   "source": []
  }
 ],
 "metadata": {
  "kernelspec": {
   "display_name": "Python 3 (ipykernel)",
   "language": "python",
   "name": "python3"
  },
  "language_info": {
   "codemirror_mode": {
    "name": "ipython",
    "version": 3
   },
   "file_extension": ".py",
   "mimetype": "text/x-python",
   "name": "python",
   "nbconvert_exporter": "python",
   "pygments_lexer": "ipython3",
   "version": "3.10.8"
  }
 },
 "nbformat": 4,
 "nbformat_minor": 5
}
