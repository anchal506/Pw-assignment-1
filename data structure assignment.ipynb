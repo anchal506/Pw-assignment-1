{
 "cells": [
  {
   "cell_type": "markdown",
   "id": "a637d2ca-c5ae-45e5-a925-b03e20c56233",
   "metadata": {},
   "source": [
    "Q1. How do you comment code in Python? What are the different types of comments?\n",
    "\n",
    "Ans- There are two types of comments in python:\n",
    "\n",
    "(i) Single line comment - For single line comment we have to press shift+3 which gives output # after that the line is ignored by python interpreter.\n",
    "    \n",
    "(ii) Multi-line comment - For multiline comment we have to press shift+\" three times (\"\"\") in the begining of the line and at the end of the line after that multiple  lines are ignored by python."
   ]
  },
  {
   "cell_type": "markdown",
   "id": "187ae65b-023d-4470-aaa0-db6e3e61397e",
   "metadata": {},
   "source": [
    "Q2. What are variables in Python? How do you declare and assign values to variables?\n",
    "\n",
    "Ans- In python variable is genrally a type of container that stores data. Variables are used to store and manipulate data.\n",
    "\n",
    "To declare and assign value in python we use operator (=).\n",
    "\n",
    "For Example;\n",
    "x = 5\n",
    "\n",
    "In this example, we declare a variable named x and assign it the value 5. After the assignment, x holds the value 5.\n"
   ]
  },
  {
   "cell_type": "markdown",
   "id": "755a23cd-14bf-492d-8be5-8b3be7c8551e",
   "metadata": {},
   "source": [
    "Q3. How do you convert one data type to another in Python?\n",
    "\n",
    "Ans- In python we can convert one data type to onother using type conversion functions or by using the constructor functions of the targer data types.\n",
    "\n",
    "(i) Implicit conversion: Python automatically performs implicit type conversion when its safe to do so.\n",
    "\n",
    "(ii)Exlicit Conversion: we can explicitly convert one data type to onother using conversion functions.\n",
    "\n",
    "For Example: \n",
    " 1. int() conversion of a float value to integer\n",
    " \n",
    "   x = int(3.14)  # x will be 3 (Hence float value converted to string)\n",
    "   \n",
    "2. float() conversion of a integer to float\n",
    "\n",
    "x = float(5)  # x will be 5.0 (Hence inteager converted to float value)\n",
    "\n",
    "3. str() converts a value to string \n",
    "\n",
    "x = str(42)  # x will be the string '42'  (Hence value converted to string)\n",
    "\n",
    "4. list(): Converts an iterable object to a list.\n",
    "\n",
    "x = list((1, 2, 3))  # x will be [1, 2, 3]  (Hence tuple converted to list)\n",
    "\n",
    "\n",
    "5. set(): Converts an iterable object to a set. \n",
    "\n",
    "x = set([1, 2, 2, 3])  # x will be {1, 2, 3} c\n",
    "\n",
    "6. dict(): Converts an iterable of key-value pairs to a dictionary\n",
    "\n",
    "x = dict([('a', 1), ('b', 2)])  # x will be {'a': 1, 'b': 2} (Hence  a list item with key and value pair converted to dict)\n",
    "\n",
    "\n",
    "\n",
    "\n",
    "\n",
    "\n",
    "                      \n"
   ]
  },
  {
   "cell_type": "markdown",
   "id": "8138f336-119a-42e7-a683-437efdd0983b",
   "metadata": {},
   "source": [
    "Q4. How do you write and execute a Python script from the command line?\n",
    "\n",
    "Ans- To write and execute a python script from the command line we have to follow these steps:\n",
    "\n",
    "(i) we have to open text editor and create new file we can use any text editor \n",
    "\n",
    "\n",
    "(ii) Write your Python code in the text file and save it with a .py extension. For example, ywe can create a file called myscript.py and write our code in it.\n",
    "\n",
    " myscript.py\n",
    "print(\"Hello, World!\")\n",
    "\n",
    "(iii) Open a command prompt or terminal window.\n",
    "\n",
    "(iv) Navigate to the directory where your Python script is saved. You can use the cd command to change directories. \n",
    "\n",
    "cd Documents\n",
    "\n",
    "(v)Once we're in the correct directory, you can execute the Python script by running the python command followed by the name of your script file. \n",
    "\n",
    "python myscript.py\n",
    "\n",
    "(vi) This command tells the Python interpreter to execute the script myscript.py. If everything is set up correctly, we should see the output of our script in the command prompt.\n",
    "\n",
    "Hello, World!\n",
    "\n"
   ]
  },
  {
   "cell_type": "markdown",
   "id": "d6bfe107-53a4-4889-8383-f4f649f0ae52",
   "metadata": {},
   "source": [
    "Q5. Given a list my_list = [1, 2, 3, 4, 5], write the code to slice the list and obtain the sub-list [2, 3]."
   ]
  },
  {
   "cell_type": "code",
   "execution_count": 8,
   "id": "7bc4faa5-5bdb-4910-8b0f-0a89d61c2dff",
   "metadata": {},
   "outputs": [
    {
     "name": "stdout",
     "output_type": "stream",
     "text": [
      "[2, 3]\n"
     ]
    }
   ],
   "source": [
    "#Ans- \n",
    "\n",
    "my_list = [1,2,3,4,5]\n",
    "\n",
    "sub_list = my_list[1:3]\n",
    "\n",
    "print(sub_list)"
   ]
  },
  {
   "cell_type": "markdown",
   "id": "cb231eb6-279b-4b19-bb8c-c2d395a09e2b",
   "metadata": {},
   "source": [
    "Q6. What is a complex number in mathematics, and how is it represented in Python?\n",
    "\n",
    "Ans- In mathematics, a complex number is a number that comprises a real part and an imaginary part. It is represented in the form a + bi, where a is the real part, b is the imaginary part, and i is the imaginary unit, defined as the square root of -1.\n",
    "\n",
    "In python complex numbers are fully supported as a built-in data type.\n",
    "They are represented using the syntax a + bj, where a is the real part, b is the imaginary part, and j is used instead of i as the imaginary unit. Here are a few examples of complex numbers in Python:\n",
    "\n",
    "z1 = 3 + 4j\n",
    "z2 = -2.5 + 1j\n",
    "z3 = 0 + 2j\n"
   ]
  },
  {
   "cell_type": "markdown",
   "id": "d156bcf8-19d9-46da-99a8-ca42c7ae287c",
   "metadata": {},
   "source": [
    "Q7. What is the correct way to declare a variable named age and assign the value 25 to it?\n",
    "\n",
    "Ans:  The correct way to declare a variable named 'age' and assign the value '25' to it in python is\n",
    "\n",
    "age = 25\n"
   ]
  },
  {
   "cell_type": "markdown",
   "id": "6a221a54-a8f6-4a61-9f3e-6423d221af4b",
   "metadata": {},
   "source": [
    "Q8. Declare a variable named price and assign the value 9.99 to it. What data type does this variable\n",
    "belong to?"
   ]
  },
  {
   "cell_type": "code",
   "execution_count": 10,
   "id": "2167a69c-0798-4cd6-a8fe-e596c6301baa",
   "metadata": {},
   "outputs": [
    {
     "name": "stdout",
     "output_type": "stream",
     "text": [
      "<class 'float'>\n"
     ]
    }
   ],
   "source": [
    "#Ans -\n",
    "price = 9.99\n",
    "\n",
    "print(type(price))"
   ]
  },
  {
   "cell_type": "markdown",
   "id": "31b8f4e8-bc93-42c4-9503-5e24f5771558",
   "metadata": {},
   "source": [
    "Q9. Create a variable named name and assign your full name to it as a string. How would you print the\n",
    "value of this variable?"
   ]
  },
  {
   "cell_type": "code",
   "execution_count": 12,
   "id": "f8577708-f894-4c91-aa0d-e18ef2b328df",
   "metadata": {},
   "outputs": [
    {
     "name": "stdout",
     "output_type": "stream",
     "text": [
      " Abhinav Singh\n"
     ]
    }
   ],
   "source": [
    "#Ans- \n",
    "\n",
    "name = \" Abhinav Singh\"\n",
    "\n",
    "print(name)"
   ]
  },
  {
   "cell_type": "markdown",
   "id": "28f96da3-f8ca-4239-93d3-398cb0c59e53",
   "metadata": {},
   "source": [
    "Q10. Given the string \"Hello, World!\", extract the substring \"World\"."
   ]
  },
  {
   "cell_type": "code",
   "execution_count": 23,
   "id": "26c5c13d-6a25-4426-9c83-39cb310ae3d1",
   "metadata": {},
   "outputs": [
    {
     "name": "stdout",
     "output_type": "stream",
     "text": [
      " World\n"
     ]
    }
   ],
   "source": [
    "#Ans- \n",
    "\n",
    "string = \"Hello, World!\"\n",
    "\n",
    "sub_string = string[6:12]\n",
    "\n",
    "print(sub_string)\n"
   ]
  },
  {
   "cell_type": "markdown",
   "id": "6b5ca67b-b430-49e4-8c33-e2a141abee37",
   "metadata": {},
   "source": [
    "Q11. Create a variable named \"is_student\" and assign it a boolean value indicating whether you are\n",
    "currently a student or not."
   ]
  },
  {
   "cell_type": "code",
   "execution_count": 24,
   "id": "d4b3293a-39a1-4435-a1ac-4ffbca0b9c63",
   "metadata": {},
   "outputs": [],
   "source": [
    "is_student = True #(curently student)\n",
    "                \n",
    "\n",
    "is_student = False #(currently not studemt)"
   ]
  },
  {
   "cell_type": "code",
   "execution_count": null,
   "id": "e2761dcc-6656-4d26-a37a-58ee025c418f",
   "metadata": {},
   "outputs": [],
   "source": []
  }
 ],
 "metadata": {
  "kernelspec": {
   "display_name": "Python 3 (ipykernel)",
   "language": "python",
   "name": "python3"
  },
  "language_info": {
   "codemirror_mode": {
    "name": "ipython",
    "version": 3
   },
   "file_extension": ".py",
   "mimetype": "text/x-python",
   "name": "python",
   "nbconvert_exporter": "python",
   "pygments_lexer": "ipython3",
   "version": "3.10.8"
  }
 },
 "nbformat": 4,
 "nbformat_minor": 5
}
